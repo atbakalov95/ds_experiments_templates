{
 "cells": [
  {
   "cell_type": "markdown",
   "id": "0aab7774",
   "metadata": {},
   "source": [
    "# Mac Tensorflow setup"
   ]
  },
  {
   "cell_type": "code",
   "execution_count": 1,
   "id": "66c53353",
   "metadata": {},
   "outputs": [
    {
     "name": "stdout",
     "output_type": "stream",
     "text": [
      "2.4.0-rc0\n",
      "[PhysicalDevice(name='/physical_device:CPU:0', device_type='CPU')]\n",
      "WARNING:tensorflow:Eager mode uses the CPU. Switching to the CPU.\n",
      "[]\n",
      "is_apple_mlc_enabled True\n",
      "is_tf_compiled_with_apple_mlc True\n"
     ]
    },
    {
     "name": "stderr",
     "output_type": "stream",
     "text": [
      "2021-08-20 23:21:13.223637: I tensorflow/compiler/jit/xla_cpu_device.cc:41] Not creating XLA devices, tf_xla_enable_xla_devices not set\n",
      "2021-08-20 23:21:13.224635: I tensorflow/core/platform/cpu_feature_guard.cc:142] This TensorFlow binary is optimized with oneAPI Deep Neural Network Library (oneDNN) to use the following CPU instructions in performance-critical operations:  AVX2 FMA\n",
      "To enable them in other operations, rebuild TensorFlow with the appropriate compiler flags.\n"
     ]
    }
   ],
   "source": [
    "import tensorflow as tf\n",
    "from tensorflow.python.client import device_lib\n",
    "from tensorflow.python.compiler.mlcompute import mlcompute\n",
    "\n",
    "import time\n",
    "\n",
    "print(tf.__version__)\n",
    "# GPGPU now can not work with eager configuration\n",
    "# tf.compat.v1.disable_eager_execution()\n",
    "# results in only CPUs since not configured to see apple ones\n",
    "print(tf.config.list_physical_devices())\n",
    "# the way to force CPU. otherwise uses gpu\n",
    "mlcompute.set_mlc_device(device_name='gpu')\n",
    "\n",
    "# results in nothing since not configured to see apple ones\n",
    "print([x.name for x in device_lib.list_local_devices() if x.device_type == 'GPU'])\n",
    "\n",
    "# auxiliary libs to communicate with apple GPUs\n",
    "print(\"is_apple_mlc_enabled %s\" % mlcompute.is_apple_mlc_enabled())\n",
    "print(\"is_tf_compiled_with_apple_mlc %s\" % mlcompute.is_tf_compiled_with_apple_mlc())"
   ]
  },
  {
   "cell_type": "markdown",
   "id": "786f43c6",
   "metadata": {},
   "source": [
    "# Core code"
   ]
  },
  {
   "cell_type": "code",
   "execution_count": 2,
   "id": "3adc9d68",
   "metadata": {},
   "outputs": [],
   "source": [
    "import numpy as np\n",
    "from PIL import Image\n",
    "import matplotlib.pyplot as plt\n",
    "import cv2\n",
    "import os"
   ]
  },
  {
   "cell_type": "markdown",
   "metadata": {},
   "source": [
    "## Settings"
   ]
  },
  {
   "cell_type": "code",
   "execution_count": 3,
   "metadata": {},
   "outputs": [],
   "source": [
    "INPUT_SHAPE = (256, 256, 3)\n",
    "MASK_SIZE = (32, 32, 3)\n",
    "\n",
    "SEED = 13\n",
    "SOURCE_FOLDER = \"source_images\"\n",
    "RESHAPED_IMAGES_FOLDER = \"reshaped_images\"\n",
    "TARGET_FOLDER = \"processed_images\"\n",
    "CROPPED_FOLDER = \"cropped_images\""
   ]
  },
  {
   "cell_type": "markdown",
   "metadata": {},
   "source": [
    "## Support functions"
   ]
  },
  {
   "cell_type": "code",
   "execution_count": 4,
   "metadata": {},
   "outputs": [],
   "source": [
    "def log(text):\n",
    "    print(text)\n",
    "    \n",
    "def log_separator():\n",
    "    log(\"========================================================\")"
   ]
  },
  {
   "cell_type": "markdown",
   "metadata": {},
   "source": [
    "## Image preprocessing"
   ]
  },
  {
   "cell_type": "code",
   "execution_count": 5,
   "metadata": {},
   "outputs": [],
   "source": [
    "def get_mask_params():\n",
    "    shape = INPUT_SHAPE[:2]\n",
    "    x = y = int(shape[0]/2 - MASK_SIZE[0]/2)\n",
    "    w = h = MASK_SIZE[0]\n",
    "    return ((x,y),(w,h))\n",
    "\n",
    "def get_mask():\n",
    "    shape = INPUT_SHAPE[:2]\n",
    "    ((x,y),(w,h)) = get_mask_params()\n",
    "    \n",
    "    mask = np.ones(INPUT_SHAPE[:2], np.uint8) * 255\n",
    "    mask[y:y+h,x:x+w]=0\n",
    "    \n",
    "    return mask\n",
    "\n",
    "def invert_mask(mask):\n",
    "    mask = np.where(mask == 0, 254, mask)\n",
    "    mask = np.where(mask == 255, 0, mask)\n",
    "    mask = np.where(mask == 254, 255, mask)\n",
    "    return mask\n",
    "\n",
    "def crop_images(source_folder=SOURCE_FOLDER, target_folder=CROPPED_FOLDER):\n",
    "    ((x,y),(w,h)) = get_mask_params()\n",
    "    \n",
    "    for filename in os.listdir(source_folder):\n",
    "        img = cv2.imread(os.path.join(source_folder, filename))\n",
    "        if img is not None:\n",
    "            cropped_image = img[y:y+h,x:x+w]\n",
    "            cv2.imwrite(os.path.join(target_folder, filename), cropped_image)\n",
    "            \n",
    "def run_to_see_images_with_masks(train_generator, number_of_images):\n",
    "    output = []\n",
    "    counter = 1\n",
    "    for v in train_generator:\n",
    "        if counter >= number_of_images:\n",
    "            break\n",
    "        output.append(v)\n",
    "        counter += 1\n",
    "    return output"
   ]
  },
  {
   "cell_type": "code",
   "execution_count": 6,
   "metadata": {},
   "outputs": [
    {
     "name": "stdout",
     "output_type": "stream",
     "text": [
      "Found 5 images belonging to 1 classes.\n",
      "Found 5 images belonging to 1 classes.\n",
      "Found 5 images belonging to 1 classes.\n",
      "Number of images found: 5\n"
     ]
    }
   ],
   "source": [
    "mask = get_mask()\n",
    "inverted_mask = invert_mask(mask)\n",
    "\n",
    "# reshape source images\n",
    "reshape_datagen = tf.keras.preprocessing.image.ImageDataGenerator(\n",
    "        rescale=1/255\n",
    ")\n",
    "reshape_generator = reshape_datagen.flow_from_directory(\n",
    "    directory=SOURCE_FOLDER,\n",
    "    save_to_dir=RESHAPED_IMAGES_FOLDER+\"/images\",\n",
    "    batch_size=1,\n",
    "    class_mode=None,\n",
    "    target_size=INPUT_SHAPE[:-1],\n",
    "    seed=SEED\n",
    ")\n",
    "run_to_see_images_with_masks(reshape_generator, reshape_generator.samples)\n",
    "\n",
    "# crop images\n",
    "source_full_path = RESHAPED_IMAGES_FOLDER+\"/images\"\n",
    "crop_images(source_folder=source_full_path, target_folder=CROPPED_FOLDER+\"/images\")\n",
    "\n",
    "# image preprocessing\n",
    "image_datagen = tf.keras.preprocessing.image.ImageDataGenerator(\n",
    "    rescale=1/255,\n",
    "    preprocessing_function=lambda img: cv2.bitwise_and(img, img, mask=mask)\n",
    ")\n",
    "mask_datagen = tf.keras.preprocessing.image.ImageDataGenerator(\n",
    "    rescale=1/255\n",
    ")\n",
    "image_generator = image_datagen.flow_from_directory(\n",
    "    directory=SOURCE_FOLDER,\n",
    "    save_to_dir=TARGET_FOLDER,\n",
    "    batch_size=1,\n",
    "    class_mode=None,\n",
    "    save_prefix=\"direct_\",\n",
    "    target_size=INPUT_SHAPE[:-1],\n",
    "    seed=SEED\n",
    ")\n",
    "mask_generator = mask_datagen.flow_from_directory(\n",
    "    directory=CROPPED_FOLDER,\n",
    "    save_to_dir=TARGET_FOLDER,\n",
    "    batch_size=1,\n",
    "    class_mode=None,\n",
    "    save_prefix=\"masked_\",\n",
    "    target_size=MASK_SIZE[:-1],\n",
    "    seed=SEED\n",
    ")\n",
    "train_generator = zip(image_generator, mask_generator)\n",
    "number_of_images = image_generator.samples\n",
    "print(f\"Number of images found: {number_of_images}\")\n",
    "\n",
    "output = run_to_see_images_with_masks(train_generator, number_of_images)"
   ]
  },
  {
   "cell_type": "markdown",
   "metadata": {},
   "source": [
    "## Model construction"
   ]
  },
  {
   "cell_type": "code",
   "execution_count": 7,
   "metadata": {},
   "outputs": [],
   "source": [
    "def extract_base_model(input_shape):\n",
    "    log(f\"Base model input shape: {str(input_shape)}\")\n",
    "    \n",
    "    return tf.keras.applications.EfficientNetB4(\n",
    "        include_top=False,\n",
    "        weights='imagenet',\n",
    "        input_shape=input_shape\n",
    "    )\n",
    "\n",
    "def get_channel_wise_layer(number_of_filters, kernel_size):\n",
    "    log(f\"Channel wise layer properties:\\r\\n   number of filters:\\\n",
    "        {str(number_of_filters)}\\r\\n.  kernel size:\\\n",
    "        {str(kernel_size)}\")\n",
    "    \n",
    "    return tf.keras.layers.SeparableConv2D(\n",
    "        filters=number_of_filters,\n",
    "        kernel_size=kernel_size\n",
    "    )\n",
    "\n",
    "def get_deconvolution_layer(number_of_filters, kernel_size):\n",
    "    log(f\"Deconvolution layer properties:\\r\\n   number of filters:\\\n",
    "        {str(number_of_filters)}\\r\\n.  kernel size:\\\n",
    "        {str(kernel_size)}\")\n",
    "    \n",
    "    return tf.keras.layers.Conv2DTranspose(\n",
    "        filters=number_of_filters,\n",
    "        kernel_size=kernel_size\n",
    "    )\n",
    "\n",
    "def create_model(list_of_layers):\n",
    "    model = tf.keras.Sequential()\n",
    "    \n",
    "    for layer in list_of_layers:\n",
    "        model.add(layer)\n",
    "        \n",
    "    return model\n",
    "\n",
    "def extract_model(input_shape):\n",
    "    log_separator()\n",
    "    base_model = extract_base_model(input_shape)\n",
    "    \n",
    "    channel_wise_layer = get_channel_wise_layer(\n",
    "        number_of_filters=base_model.layers[-1].output_shape[-1],\n",
    "        kernel_size=(1,1)\n",
    "    )\n",
    "    \n",
    "    deconvolution_1 = get_deconvolution_layer(\n",
    "        number_of_filters=700,\n",
    "        kernel_size=(3,3)\n",
    "    )\n",
    "    deconvolution_2 = get_deconvolution_layer(\n",
    "        number_of_filters=224,\n",
    "        kernel_size=(8,8)\n",
    "    )\n",
    "    deconvolution_3 = get_deconvolution_layer(\n",
    "        number_of_filters=56,\n",
    "        kernel_size=(9,9)\n",
    "    )\n",
    "    deconvolution_4 = get_deconvolution_layer(\n",
    "        number_of_filters=3,\n",
    "        kernel_size=(8,8)\n",
    "    )\n",
    "    \n",
    "#     flatten_layer_1 = tf.keras.layers.Flatten()\n",
    "\n",
    "    model = create_model([\n",
    "        base_model,\n",
    "        channel_wise_layer,\n",
    "        deconvolution_1,\n",
    "        deconvolution_2,\n",
    "        deconvolution_3,\n",
    "        deconvolution_4,\n",
    "#         flatten_layer_1,\n",
    "    ])\n",
    "    \n",
    "    model.summary()\n",
    "    log_separator()\n",
    "    return model"
   ]
  },
  {
   "cell_type": "code",
   "execution_count": 8,
   "metadata": {},
   "outputs": [
    {
     "name": "stdout",
     "output_type": "stream",
     "text": [
      "========================================================\n",
      "Base model input shape: (256, 256, 3)\n",
      "Channel wise layer properties:\n",
      "   number of filters:        1792\n",
      ".  kernel size:        (1, 1)\n",
      "Deconvolution layer properties:\n",
      "   number of filters:        700\n",
      ".  kernel size:        (3, 3)\n",
      "Deconvolution layer properties:\n",
      "   number of filters:        224\n",
      ".  kernel size:        (8, 8)\n",
      "Deconvolution layer properties:\n",
      "   number of filters:        56\n",
      ".  kernel size:        (9, 9)\n",
      "Deconvolution layer properties:\n",
      "   number of filters:        3\n",
      ".  kernel size:        (8, 8)\n",
      "Model: \"sequential\"\n",
      "_________________________________________________________________\n",
      "Layer (type)                 Output Shape              Param #   \n",
      "=================================================================\n",
      "efficientnetb4 (Functional)  (None, 8, 8, 1792)        17673823  \n",
      "_________________________________________________________________\n",
      "separable_conv2d (SeparableC (None, 8, 8, 1792)        3214848   \n",
      "_________________________________________________________________\n",
      "conv2d_transpose (Conv2DTran (None, 10, 10, 700)       11290300  \n",
      "_________________________________________________________________\n",
      "conv2d_transpose_1 (Conv2DTr (None, 17, 17, 224)       10035424  \n",
      "_________________________________________________________________\n",
      "conv2d_transpose_2 (Conv2DTr (None, 25, 25, 56)        1016120   \n",
      "_________________________________________________________________\n",
      "conv2d_transpose_3 (Conv2DTr (None, 32, 32, 3)         10755     \n",
      "=================================================================\n",
      "Total params: 43,241,270\n",
      "Trainable params: 43,116,063\n",
      "Non-trainable params: 125,207\n",
      "_________________________________________________________________\n",
      "========================================================\n"
     ]
    }
   ],
   "source": [
    "model = extract_model(INPUT_SHAPE)"
   ]
  },
  {
   "cell_type": "code",
   "execution_count": 9,
   "metadata": {},
   "outputs": [],
   "source": [
    "def my_loss_fn(y_true, y_pred):\n",
    "    squared_difference = tf.square(y_true - y_pred)\n",
    "    return tf.reduce_mean(squared_difference, axis=-1)\n",
    "\n",
    "model.compile(loss=my_loss_fn)"
   ]
  },
  {
   "cell_type": "code",
   "execution_count": 10,
   "metadata": {},
   "outputs": [
    {
     "name": "stderr",
     "output_type": "stream",
     "text": [
      "2021-08-20 23:21:37.056156: I tensorflow/compiler/mlir/mlir_graph_optimization_pass.cc:116] None of the MLIR optimization passes are enabled (registered 2)\n"
     ]
    },
    {
     "name": "stdout",
     "output_type": "stream",
     "text": [
      "Epoch 1/50\n",
      "WARNING:tensorflow:AutoGraph could not transform <function Model.make_train_function.<locals>.train_function at 0x7fac18f4c0d0> and will run it as-is.\n",
      "Please report this to the TensorFlow team. When filing the bug, set the verbosity to 10 (on Linux, `export AUTOGRAPH_VERBOSITY=10`) and attach the full output.\n",
      "Cause: unsupported operand type(s) for -: 'NoneType' and 'int'\n",
      "To silence this warning, decorate the function with @tf.autograph.experimental.do_not_convert\n",
      "WARNING: AutoGraph could not transform <function Model.make_train_function.<locals>.train_function at 0x7fac18f4c0d0> and will run it as-is.\n",
      "Please report this to the TensorFlow team. When filing the bug, set the verbosity to 10 (on Linux, `export AUTOGRAPH_VERBOSITY=10`) and attach the full output.\n",
      "Cause: unsupported operand type(s) for -: 'NoneType' and 'int'\n",
      "To silence this warning, decorate the function with @tf.autograph.experimental.do_not_convert\n",
      "  20/2000 [..............................] - ETA: 46:15 - loss: 381114.2256"
     ]
    },
    {
     "ename": "KeyboardInterrupt",
     "evalue": "",
     "output_type": "error",
     "traceback": [
      "\u001b[0;31m---------------------------------------------------------------------------\u001b[0m",
      "\u001b[0;31mKeyboardInterrupt\u001b[0m                         Traceback (most recent call last)",
      "\u001b[0;32m/var/folders/4g/0pqqvs2j6xgbkzvhr__03d2r0000gn/T/ipykernel_8388/2852679314.py\u001b[0m in \u001b[0;36m<module>\u001b[0;34m\u001b[0m\n\u001b[0;32m----> 1\u001b[0;31m model.fit(\n\u001b[0m\u001b[1;32m      2\u001b[0m     \u001b[0mtrain_generator\u001b[0m\u001b[0;34m,\u001b[0m\u001b[0;34m\u001b[0m\u001b[0;34m\u001b[0m\u001b[0m\n\u001b[1;32m      3\u001b[0m     \u001b[0msteps_per_epoch\u001b[0m\u001b[0;34m=\u001b[0m\u001b[0;36m2000\u001b[0m\u001b[0;34m,\u001b[0m\u001b[0;34m\u001b[0m\u001b[0;34m\u001b[0m\u001b[0m\n\u001b[1;32m      4\u001b[0m     \u001b[0mepochs\u001b[0m\u001b[0;34m=\u001b[0m\u001b[0;36m50\u001b[0m\u001b[0;34m,\u001b[0m\u001b[0;34m\u001b[0m\u001b[0;34m\u001b[0m\u001b[0m\n\u001b[1;32m      5\u001b[0m     \u001b[0mverbose\u001b[0m\u001b[0;34m=\u001b[0m\u001b[0;32mTrue\u001b[0m\u001b[0;34m\u001b[0m\u001b[0;34m\u001b[0m\u001b[0m\n",
      "\u001b[0;32m~/opt/anaconda3/envs/unsupervised_conda_env/lib/python3.8/site-packages/tensorflow/python/keras/engine/training.py\u001b[0m in \u001b[0;36mfit\u001b[0;34m(self, x, y, batch_size, epochs, verbose, callbacks, validation_split, validation_data, shuffle, class_weight, sample_weight, initial_epoch, steps_per_epoch, validation_steps, validation_batch_size, validation_freq, max_queue_size, workers, use_multiprocessing)\u001b[0m\n\u001b[1;32m   1098\u001b[0m                 _r=1):\n\u001b[1;32m   1099\u001b[0m               \u001b[0mcallbacks\u001b[0m\u001b[0;34m.\u001b[0m\u001b[0mon_train_batch_begin\u001b[0m\u001b[0;34m(\u001b[0m\u001b[0mstep\u001b[0m\u001b[0;34m)\u001b[0m\u001b[0;34m\u001b[0m\u001b[0;34m\u001b[0m\u001b[0m\n\u001b[0;32m-> 1100\u001b[0;31m               \u001b[0mtmp_logs\u001b[0m \u001b[0;34m=\u001b[0m \u001b[0mself\u001b[0m\u001b[0;34m.\u001b[0m\u001b[0mtrain_function\u001b[0m\u001b[0;34m(\u001b[0m\u001b[0miterator\u001b[0m\u001b[0;34m)\u001b[0m\u001b[0;34m\u001b[0m\u001b[0;34m\u001b[0m\u001b[0m\n\u001b[0m\u001b[1;32m   1101\u001b[0m               \u001b[0;32mif\u001b[0m \u001b[0mdata_handler\u001b[0m\u001b[0;34m.\u001b[0m\u001b[0mshould_sync\u001b[0m\u001b[0;34m:\u001b[0m\u001b[0;34m\u001b[0m\u001b[0;34m\u001b[0m\u001b[0m\n\u001b[1;32m   1102\u001b[0m                 \u001b[0mcontext\u001b[0m\u001b[0;34m.\u001b[0m\u001b[0masync_wait\u001b[0m\u001b[0;34m(\u001b[0m\u001b[0;34m)\u001b[0m\u001b[0;34m\u001b[0m\u001b[0;34m\u001b[0m\u001b[0m\n",
      "\u001b[0;32m~/opt/anaconda3/envs/unsupervised_conda_env/lib/python3.8/site-packages/tensorflow/python/eager/def_function.py\u001b[0m in \u001b[0;36m__call__\u001b[0;34m(self, *args, **kwds)\u001b[0m\n\u001b[1;32m    826\u001b[0m     \u001b[0mtracing_count\u001b[0m \u001b[0;34m=\u001b[0m \u001b[0mself\u001b[0m\u001b[0;34m.\u001b[0m\u001b[0mexperimental_get_tracing_count\u001b[0m\u001b[0;34m(\u001b[0m\u001b[0;34m)\u001b[0m\u001b[0;34m\u001b[0m\u001b[0;34m\u001b[0m\u001b[0m\n\u001b[1;32m    827\u001b[0m     \u001b[0;32mwith\u001b[0m \u001b[0mtrace\u001b[0m\u001b[0;34m.\u001b[0m\u001b[0mTrace\u001b[0m\u001b[0;34m(\u001b[0m\u001b[0mself\u001b[0m\u001b[0;34m.\u001b[0m\u001b[0m_name\u001b[0m\u001b[0;34m)\u001b[0m \u001b[0;32mas\u001b[0m \u001b[0mtm\u001b[0m\u001b[0;34m:\u001b[0m\u001b[0;34m\u001b[0m\u001b[0;34m\u001b[0m\u001b[0m\n\u001b[0;32m--> 828\u001b[0;31m       \u001b[0mresult\u001b[0m \u001b[0;34m=\u001b[0m \u001b[0mself\u001b[0m\u001b[0;34m.\u001b[0m\u001b[0m_call\u001b[0m\u001b[0;34m(\u001b[0m\u001b[0;34m*\u001b[0m\u001b[0margs\u001b[0m\u001b[0;34m,\u001b[0m \u001b[0;34m**\u001b[0m\u001b[0mkwds\u001b[0m\u001b[0;34m)\u001b[0m\u001b[0;34m\u001b[0m\u001b[0;34m\u001b[0m\u001b[0m\n\u001b[0m\u001b[1;32m    829\u001b[0m       \u001b[0mcompiler\u001b[0m \u001b[0;34m=\u001b[0m \u001b[0;34m\"xla\"\u001b[0m \u001b[0;32mif\u001b[0m \u001b[0mself\u001b[0m\u001b[0;34m.\u001b[0m\u001b[0m_experimental_compile\u001b[0m \u001b[0;32melse\u001b[0m \u001b[0;34m\"nonXla\"\u001b[0m\u001b[0;34m\u001b[0m\u001b[0;34m\u001b[0m\u001b[0m\n\u001b[1;32m    830\u001b[0m       \u001b[0mnew_tracing_count\u001b[0m \u001b[0;34m=\u001b[0m \u001b[0mself\u001b[0m\u001b[0;34m.\u001b[0m\u001b[0mexperimental_get_tracing_count\u001b[0m\u001b[0;34m(\u001b[0m\u001b[0;34m)\u001b[0m\u001b[0;34m\u001b[0m\u001b[0;34m\u001b[0m\u001b[0m\n",
      "\u001b[0;32m~/opt/anaconda3/envs/unsupervised_conda_env/lib/python3.8/site-packages/tensorflow/python/eager/def_function.py\u001b[0m in \u001b[0;36m_call\u001b[0;34m(self, *args, **kwds)\u001b[0m\n\u001b[1;32m    853\u001b[0m       \u001b[0;31m# In this case we have created variables on the first call, so we run the\u001b[0m\u001b[0;34m\u001b[0m\u001b[0;34m\u001b[0m\u001b[0;34m\u001b[0m\u001b[0m\n\u001b[1;32m    854\u001b[0m       \u001b[0;31m# defunned version which is guaranteed to never create variables.\u001b[0m\u001b[0;34m\u001b[0m\u001b[0;34m\u001b[0m\u001b[0;34m\u001b[0m\u001b[0m\n\u001b[0;32m--> 855\u001b[0;31m       \u001b[0;32mreturn\u001b[0m \u001b[0mself\u001b[0m\u001b[0;34m.\u001b[0m\u001b[0m_stateless_fn\u001b[0m\u001b[0;34m(\u001b[0m\u001b[0;34m*\u001b[0m\u001b[0margs\u001b[0m\u001b[0;34m,\u001b[0m \u001b[0;34m**\u001b[0m\u001b[0mkwds\u001b[0m\u001b[0;34m)\u001b[0m  \u001b[0;31m# pylint: disable=not-callable\u001b[0m\u001b[0;34m\u001b[0m\u001b[0;34m\u001b[0m\u001b[0m\n\u001b[0m\u001b[1;32m    856\u001b[0m     \u001b[0;32melif\u001b[0m \u001b[0mself\u001b[0m\u001b[0;34m.\u001b[0m\u001b[0m_stateful_fn\u001b[0m \u001b[0;32mis\u001b[0m \u001b[0;32mnot\u001b[0m \u001b[0;32mNone\u001b[0m\u001b[0;34m:\u001b[0m\u001b[0;34m\u001b[0m\u001b[0;34m\u001b[0m\u001b[0m\n\u001b[1;32m    857\u001b[0m       \u001b[0;31m# Release the lock early so that multiple threads can perform the call\u001b[0m\u001b[0;34m\u001b[0m\u001b[0;34m\u001b[0m\u001b[0;34m\u001b[0m\u001b[0m\n",
      "\u001b[0;32m~/opt/anaconda3/envs/unsupervised_conda_env/lib/python3.8/site-packages/tensorflow/python/eager/function.py\u001b[0m in \u001b[0;36m__call__\u001b[0;34m(self, *args, **kwargs)\u001b[0m\n\u001b[1;32m   2940\u001b[0m       (graph_function,\n\u001b[1;32m   2941\u001b[0m        filtered_flat_args) = self._maybe_define_function(args, kwargs)\n\u001b[0;32m-> 2942\u001b[0;31m     return graph_function._call_flat(\n\u001b[0m\u001b[1;32m   2943\u001b[0m         filtered_flat_args, captured_inputs=graph_function.captured_inputs)  # pylint: disable=protected-access\n\u001b[1;32m   2944\u001b[0m \u001b[0;34m\u001b[0m\u001b[0m\n",
      "\u001b[0;32m~/opt/anaconda3/envs/unsupervised_conda_env/lib/python3.8/site-packages/tensorflow/python/eager/function.py\u001b[0m in \u001b[0;36m_call_flat\u001b[0;34m(self, args, captured_inputs, cancellation_manager)\u001b[0m\n\u001b[1;32m   1916\u001b[0m         and executing_eagerly):\n\u001b[1;32m   1917\u001b[0m       \u001b[0;31m# No tape is watching; skip to running the function.\u001b[0m\u001b[0;34m\u001b[0m\u001b[0;34m\u001b[0m\u001b[0;34m\u001b[0m\u001b[0m\n\u001b[0;32m-> 1918\u001b[0;31m       return self._build_call_outputs(self._inference_function.call(\n\u001b[0m\u001b[1;32m   1919\u001b[0m           ctx, args, cancellation_manager=cancellation_manager))\n\u001b[1;32m   1920\u001b[0m     forward_backward = self._select_forward_and_backward_functions(\n",
      "\u001b[0;32m~/opt/anaconda3/envs/unsupervised_conda_env/lib/python3.8/site-packages/tensorflow/python/eager/function.py\u001b[0m in \u001b[0;36mcall\u001b[0;34m(self, ctx, args, cancellation_manager)\u001b[0m\n\u001b[1;32m    553\u001b[0m       \u001b[0;32mwith\u001b[0m \u001b[0m_InterpolateFunctionError\u001b[0m\u001b[0;34m(\u001b[0m\u001b[0mself\u001b[0m\u001b[0;34m)\u001b[0m\u001b[0;34m:\u001b[0m\u001b[0;34m\u001b[0m\u001b[0;34m\u001b[0m\u001b[0m\n\u001b[1;32m    554\u001b[0m         \u001b[0;32mif\u001b[0m \u001b[0mcancellation_manager\u001b[0m \u001b[0;32mis\u001b[0m \u001b[0;32mNone\u001b[0m\u001b[0;34m:\u001b[0m\u001b[0;34m\u001b[0m\u001b[0;34m\u001b[0m\u001b[0m\n\u001b[0;32m--> 555\u001b[0;31m           outputs = execute.execute(\n\u001b[0m\u001b[1;32m    556\u001b[0m               \u001b[0mstr\u001b[0m\u001b[0;34m(\u001b[0m\u001b[0mself\u001b[0m\u001b[0;34m.\u001b[0m\u001b[0msignature\u001b[0m\u001b[0;34m.\u001b[0m\u001b[0mname\u001b[0m\u001b[0;34m)\u001b[0m\u001b[0;34m,\u001b[0m\u001b[0;34m\u001b[0m\u001b[0;34m\u001b[0m\u001b[0m\n\u001b[1;32m    557\u001b[0m               \u001b[0mnum_outputs\u001b[0m\u001b[0;34m=\u001b[0m\u001b[0mself\u001b[0m\u001b[0;34m.\u001b[0m\u001b[0m_num_outputs\u001b[0m\u001b[0;34m,\u001b[0m\u001b[0;34m\u001b[0m\u001b[0;34m\u001b[0m\u001b[0m\n",
      "\u001b[0;32m~/opt/anaconda3/envs/unsupervised_conda_env/lib/python3.8/site-packages/tensorflow/python/eager/execute.py\u001b[0m in \u001b[0;36mquick_execute\u001b[0;34m(op_name, num_outputs, inputs, attrs, ctx, name)\u001b[0m\n\u001b[1;32m     57\u001b[0m   \u001b[0;32mtry\u001b[0m\u001b[0;34m:\u001b[0m\u001b[0;34m\u001b[0m\u001b[0;34m\u001b[0m\u001b[0m\n\u001b[1;32m     58\u001b[0m     \u001b[0mctx\u001b[0m\u001b[0;34m.\u001b[0m\u001b[0mensure_initialized\u001b[0m\u001b[0;34m(\u001b[0m\u001b[0;34m)\u001b[0m\u001b[0;34m\u001b[0m\u001b[0;34m\u001b[0m\u001b[0m\n\u001b[0;32m---> 59\u001b[0;31m     tensors = pywrap_tfe.TFE_Py_Execute(ctx._handle, device_name, op_name,\n\u001b[0m\u001b[1;32m     60\u001b[0m                                         inputs, attrs, num_outputs)\n\u001b[1;32m     61\u001b[0m   \u001b[0;32mexcept\u001b[0m \u001b[0mcore\u001b[0m\u001b[0;34m.\u001b[0m\u001b[0m_NotOkStatusException\u001b[0m \u001b[0;32mas\u001b[0m \u001b[0me\u001b[0m\u001b[0;34m:\u001b[0m\u001b[0;34m\u001b[0m\u001b[0;34m\u001b[0m\u001b[0m\n",
      "\u001b[0;31mKeyboardInterrupt\u001b[0m: "
     ]
    }
   ],
   "source": [
    "model.fit(\n",
    "    train_generator,\n",
    "    steps_per_epoch=2000,\n",
    "    epochs=50,\n",
    "    verbose=True\n",
    ")"
   ]
  },
  {
   "cell_type": "code",
   "execution_count": null,
   "metadata": {},
   "outputs": [],
   "source": []
  }
 ],
 "metadata": {
  "kernelspec": {
   "display_name": "Python 3 (ipykernel)",
   "language": "python",
   "name": "python3"
  },
  "language_info": {
   "codemirror_mode": {
    "name": "ipython",
    "version": 3
   },
   "file_extension": ".py",
   "mimetype": "text/x-python",
   "name": "python",
   "nbconvert_exporter": "python",
   "pygments_lexer": "ipython3",
   "version": "3.8.10"
  }
 },
 "nbformat": 4,
 "nbformat_minor": 5
}
